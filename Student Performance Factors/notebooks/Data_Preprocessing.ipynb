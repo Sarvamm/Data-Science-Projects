{
 "cells": [
  {
   "cell_type": "markdown",
   "id": "3b354de2-d581-4597-8270-c084c200b996",
   "metadata": {},
   "source": [
    "# Imports"
   ]
  },
  {
   "cell_type": "code",
   "execution_count": 9,
   "id": "17e21991-cda3-4669-8ad0-2a778ac045ea",
   "metadata": {},
   "outputs": [],
   "source": [
    "import pandas as pd"
   ]
  },
  {
   "cell_type": "markdown",
   "id": "3a743703",
   "metadata": {},
   "source": [
    "# Downloading and Reading Data"
   ]
  },
  {
   "cell_type": "code",
   "execution_count": 10,
   "id": "f5aa9459",
   "metadata": {},
   "outputs": [
    {
     "name": "stdout",
     "output_type": "stream",
     "text": [
      "Path to dataset files: C:\\Users\\Sarvamm\\.cache\\kagglehub\\datasets\\lainguyn123\\student-performance-factors\\versions\\8\n"
     ]
    }
   ],
   "source": [
    "import kagglehub\n",
    "# Download latest version of the dataset\n",
    "path = kagglehub.dataset_download(\"lainguyn123/student-performance-factors\")\n",
    "print(\"Path to dataset files:\", path)"
   ]
  },
  {
   "cell_type": "code",
   "execution_count": 11,
   "id": "9b59ec6b-391e-403f-8884-dd8aad12ed28",
   "metadata": {},
   "outputs": [],
   "source": [
    "data = pd.read_csv(r\"C:\\Users\\Sarvamm\\Documents\\Repos\\Data-Science-Projects\\Student Performance Factors\\data\\raw\\StudentPerformanceFactors.csv\")"
   ]
  },
  {
   "cell_type": "markdown",
   "id": "229004a3",
   "metadata": {},
   "source": [
    "# Memory Usage"
   ]
  },
  {
   "cell_type": "code",
   "execution_count": 12,
   "id": "8550ff5d",
   "metadata": {},
   "outputs": [
    {
     "name": "stdout",
     "output_type": "stream",
     "text": [
      "Memory usage before optimization:\n",
      "4.772937774658203 MB\n"
     ]
    }
   ],
   "source": [
    "#code to check memory used\n",
    "print(\"Memory usage before optimization:\")\n",
    "print(data.memory_usage(deep=True).sum() / 1024**2, \"MB\")"
   ]
  },
  {
   "cell_type": "markdown",
   "id": "167dced3",
   "metadata": {},
   "source": [
    "# Data Cleaning"
   ]
  },
  {
   "cell_type": "code",
   "execution_count": null,
   "id": "6b3c0997",
   "metadata": {},
   "outputs": [
    {
     "data": {
      "application/vnd.microsoft.datawrangler.viewer.v0+json": {
       "columns": [
        {
         "name": "index",
         "rawType": "int64",
         "type": "integer"
        },
        {
         "name": "Hours_Studied",
         "rawType": "int8",
         "type": "integer"
        },
        {
         "name": "Attendance",
         "rawType": "int8",
         "type": "integer"
        },
        {
         "name": "Parental_Involvement",
         "rawType": "object",
         "type": "string"
        },
        {
         "name": "Access_to_Resources",
         "rawType": "object",
         "type": "string"
        },
        {
         "name": "Extracurricular_Activities",
         "rawType": "object",
         "type": "string"
        },
        {
         "name": "bool_Extracurricular_Activities",
         "rawType": "bool",
         "type": "boolean"
        },
        {
         "name": "Sleep_Hours",
         "rawType": "int8",
         "type": "integer"
        },
        {
         "name": "Previous_Scores",
         "rawType": "int8",
         "type": "integer"
        },
        {
         "name": "Motivation_Level",
         "rawType": "object",
         "type": "string"
        },
        {
         "name": "Internet_Access",
         "rawType": "object",
         "type": "string"
        },
        {
         "name": "bool_Internet_Access",
         "rawType": "bool",
         "type": "boolean"
        },
        {
         "name": "Tutoring_Sessions",
         "rawType": "int8",
         "type": "integer"
        },
        {
         "name": "Family_Income",
         "rawType": "object",
         "type": "string"
        },
        {
         "name": "Teacher_Quality",
         "rawType": "object",
         "type": "string"
        },
        {
         "name": "School_Type_Private",
         "rawType": "bool",
         "type": "boolean"
        },
        {
         "name": "School_Type_Public",
         "rawType": "bool",
         "type": "boolean"
        },
        {
         "name": "Peer_Influence",
         "rawType": "object",
         "type": "string"
        },
        {
         "name": "Physical_Activity",
         "rawType": "int8",
         "type": "integer"
        },
        {
         "name": "Learning_Disabilities",
         "rawType": "object",
         "type": "string"
        },
        {
         "name": "Parental_Education_Level",
         "rawType": "object",
         "type": "string"
        },
        {
         "name": "numeric_Parental_Education_Level",
         "rawType": "int8",
         "type": "integer"
        },
        {
         "name": "Distance_from_Home",
         "rawType": "object",
         "type": "string"
        },
        {
         "name": "numeric_Distance_from_Home",
         "rawType": "int8",
         "type": "integer"
        },
        {
         "name": "Gender",
         "rawType": "object",
         "type": "string"
        },
        {
         "name": "Exam_Score",
         "rawType": "int8",
         "type": "integer"
        },
        {
         "name": "numeric_Parental_Involvement",
         "rawType": "int8",
         "type": "integer"
        },
        {
         "name": "numeric_Access_to_Resources",
         "rawType": "int8",
         "type": "integer"
        },
        {
         "name": "numeric_Motivation_Level",
         "rawType": "int8",
         "type": "integer"
        },
        {
         "name": "numeric_Family_Income",
         "rawType": "int8",
         "type": "integer"
        },
        {
         "name": "numeric_Teacher_Quality",
         "rawType": "int8",
         "type": "integer"
        },
        {
         "name": "numeric_Peer_Influence",
         "rawType": "int8",
         "type": "integer"
        },
        {
         "name": "numeric_Learning_Disabilities",
         "rawType": "bool",
         "type": "boolean"
        }
       ],
       "conversionMethod": "pd.DataFrame",
       "ref": "06eaca00-8460-4c0e-b495-7a3b04fd4694",
       "rows": [
        [
         "0",
         "23",
         "84",
         "Low",
         "High",
         "No",
         "False",
         "7",
         "73",
         "Low",
         "Yes",
         "True",
         "0",
         "Low",
         "Medium",
         "False",
         "True",
         "Positive",
         "3",
         "No",
         "High School",
         "0",
         "Near",
         "0",
         "Male",
         "67",
         "0",
         "2",
         "0",
         "0",
         "1",
         "1",
         "False"
        ],
        [
         "1",
         "19",
         "64",
         "Low",
         "Medium",
         "No",
         "False",
         "8",
         "59",
         "Low",
         "Yes",
         "True",
         "2",
         "Medium",
         "Medium",
         "False",
         "True",
         "Negative",
         "4",
         "No",
         "College",
         "1",
         "Moderate",
         "1",
         "Female",
         "61",
         "0",
         "1",
         "0",
         "1",
         "1",
         "-1",
         "False"
        ],
        [
         "2",
         "24",
         "98",
         "Medium",
         "Medium",
         "Yes",
         "True",
         "7",
         "91",
         "Medium",
         "Yes",
         "True",
         "2",
         "Medium",
         "Medium",
         "False",
         "True",
         "Neutral",
         "4",
         "No",
         "Postgraduate",
         "2",
         "Near",
         "0",
         "Male",
         "74",
         "1",
         "1",
         "1",
         "1",
         "1",
         "0",
         "False"
        ],
        [
         "3",
         "29",
         "89",
         "Low",
         "Medium",
         "Yes",
         "True",
         "8",
         "98",
         "Medium",
         "Yes",
         "True",
         "1",
         "Medium",
         "Medium",
         "False",
         "True",
         "Negative",
         "4",
         "No",
         "High School",
         "0",
         "Moderate",
         "1",
         "Male",
         "71",
         "0",
         "1",
         "1",
         "1",
         "1",
         "-1",
         "False"
        ],
        [
         "4",
         "19",
         "92",
         "Medium",
         "Medium",
         "Yes",
         "True",
         "6",
         "65",
         "Medium",
         "Yes",
         "True",
         "3",
         "Medium",
         "High",
         "False",
         "True",
         "Neutral",
         "4",
         "No",
         "College",
         "1",
         "Near",
         "0",
         "Female",
         "70",
         "1",
         "1",
         "1",
         "1",
         "2",
         "0",
         "False"
        ]
       ],
       "shape": {
        "columns": 32,
        "rows": 5
       }
      },
      "text/html": [
       "<div>\n",
       "<style scoped>\n",
       "    .dataframe tbody tr th:only-of-type {\n",
       "        vertical-align: middle;\n",
       "    }\n",
       "\n",
       "    .dataframe tbody tr th {\n",
       "        vertical-align: top;\n",
       "    }\n",
       "\n",
       "    .dataframe thead th {\n",
       "        text-align: right;\n",
       "    }\n",
       "</style>\n",
       "<table border=\"1\" class=\"dataframe\">\n",
       "  <thead>\n",
       "    <tr style=\"text-align: right;\">\n",
       "      <th></th>\n",
       "      <th>Hours_Studied</th>\n",
       "      <th>Attendance</th>\n",
       "      <th>Parental_Involvement</th>\n",
       "      <th>Access_to_Resources</th>\n",
       "      <th>Extracurricular_Activities</th>\n",
       "      <th>bool_Extracurricular_Activities</th>\n",
       "      <th>Sleep_Hours</th>\n",
       "      <th>Previous_Scores</th>\n",
       "      <th>Motivation_Level</th>\n",
       "      <th>Internet_Access</th>\n",
       "      <th>...</th>\n",
       "      <th>numeric_Distance_from_Home</th>\n",
       "      <th>Gender</th>\n",
       "      <th>Exam_Score</th>\n",
       "      <th>numeric_Parental_Involvement</th>\n",
       "      <th>numeric_Access_to_Resources</th>\n",
       "      <th>numeric_Motivation_Level</th>\n",
       "      <th>numeric_Family_Income</th>\n",
       "      <th>numeric_Teacher_Quality</th>\n",
       "      <th>numeric_Peer_Influence</th>\n",
       "      <th>numeric_Learning_Disabilities</th>\n",
       "    </tr>\n",
       "  </thead>\n",
       "  <tbody>\n",
       "    <tr>\n",
       "      <th>0</th>\n",
       "      <td>23</td>\n",
       "      <td>84</td>\n",
       "      <td>Low</td>\n",
       "      <td>High</td>\n",
       "      <td>No</td>\n",
       "      <td>False</td>\n",
       "      <td>7</td>\n",
       "      <td>73</td>\n",
       "      <td>Low</td>\n",
       "      <td>Yes</td>\n",
       "      <td>...</td>\n",
       "      <td>0</td>\n",
       "      <td>Male</td>\n",
       "      <td>67</td>\n",
       "      <td>0</td>\n",
       "      <td>2</td>\n",
       "      <td>0</td>\n",
       "      <td>0</td>\n",
       "      <td>1</td>\n",
       "      <td>1</td>\n",
       "      <td>False</td>\n",
       "    </tr>\n",
       "    <tr>\n",
       "      <th>1</th>\n",
       "      <td>19</td>\n",
       "      <td>64</td>\n",
       "      <td>Low</td>\n",
       "      <td>Medium</td>\n",
       "      <td>No</td>\n",
       "      <td>False</td>\n",
       "      <td>8</td>\n",
       "      <td>59</td>\n",
       "      <td>Low</td>\n",
       "      <td>Yes</td>\n",
       "      <td>...</td>\n",
       "      <td>1</td>\n",
       "      <td>Female</td>\n",
       "      <td>61</td>\n",
       "      <td>0</td>\n",
       "      <td>1</td>\n",
       "      <td>0</td>\n",
       "      <td>1</td>\n",
       "      <td>1</td>\n",
       "      <td>-1</td>\n",
       "      <td>False</td>\n",
       "    </tr>\n",
       "    <tr>\n",
       "      <th>2</th>\n",
       "      <td>24</td>\n",
       "      <td>98</td>\n",
       "      <td>Medium</td>\n",
       "      <td>Medium</td>\n",
       "      <td>Yes</td>\n",
       "      <td>True</td>\n",
       "      <td>7</td>\n",
       "      <td>91</td>\n",
       "      <td>Medium</td>\n",
       "      <td>Yes</td>\n",
       "      <td>...</td>\n",
       "      <td>0</td>\n",
       "      <td>Male</td>\n",
       "      <td>74</td>\n",
       "      <td>1</td>\n",
       "      <td>1</td>\n",
       "      <td>1</td>\n",
       "      <td>1</td>\n",
       "      <td>1</td>\n",
       "      <td>0</td>\n",
       "      <td>False</td>\n",
       "    </tr>\n",
       "    <tr>\n",
       "      <th>3</th>\n",
       "      <td>29</td>\n",
       "      <td>89</td>\n",
       "      <td>Low</td>\n",
       "      <td>Medium</td>\n",
       "      <td>Yes</td>\n",
       "      <td>True</td>\n",
       "      <td>8</td>\n",
       "      <td>98</td>\n",
       "      <td>Medium</td>\n",
       "      <td>Yes</td>\n",
       "      <td>...</td>\n",
       "      <td>1</td>\n",
       "      <td>Male</td>\n",
       "      <td>71</td>\n",
       "      <td>0</td>\n",
       "      <td>1</td>\n",
       "      <td>1</td>\n",
       "      <td>1</td>\n",
       "      <td>1</td>\n",
       "      <td>-1</td>\n",
       "      <td>False</td>\n",
       "    </tr>\n",
       "    <tr>\n",
       "      <th>4</th>\n",
       "      <td>19</td>\n",
       "      <td>92</td>\n",
       "      <td>Medium</td>\n",
       "      <td>Medium</td>\n",
       "      <td>Yes</td>\n",
       "      <td>True</td>\n",
       "      <td>6</td>\n",
       "      <td>65</td>\n",
       "      <td>Medium</td>\n",
       "      <td>Yes</td>\n",
       "      <td>...</td>\n",
       "      <td>0</td>\n",
       "      <td>Female</td>\n",
       "      <td>70</td>\n",
       "      <td>1</td>\n",
       "      <td>1</td>\n",
       "      <td>1</td>\n",
       "      <td>1</td>\n",
       "      <td>2</td>\n",
       "      <td>0</td>\n",
       "      <td>False</td>\n",
       "    </tr>\n",
       "  </tbody>\n",
       "</table>\n",
       "<p>5 rows × 32 columns</p>\n",
       "</div>"
      ],
      "text/plain": [
       "   Hours_Studied  Attendance Parental_Involvement Access_to_Resources  \\\n",
       "0             23          84                  Low                High   \n",
       "1             19          64                  Low              Medium   \n",
       "2             24          98               Medium              Medium   \n",
       "3             29          89                  Low              Medium   \n",
       "4             19          92               Medium              Medium   \n",
       "\n",
       "  Extracurricular_Activities  bool_Extracurricular_Activities  Sleep_Hours  \\\n",
       "0                         No                            False            7   \n",
       "1                         No                            False            8   \n",
       "2                        Yes                             True            7   \n",
       "3                        Yes                             True            8   \n",
       "4                        Yes                             True            6   \n",
       "\n",
       "   Previous_Scores Motivation_Level Internet_Access  ...  \\\n",
       "0               73              Low             Yes  ...   \n",
       "1               59              Low             Yes  ...   \n",
       "2               91           Medium             Yes  ...   \n",
       "3               98           Medium             Yes  ...   \n",
       "4               65           Medium             Yes  ...   \n",
       "\n",
       "   numeric_Distance_from_Home  Gender Exam_Score numeric_Parental_Involvement  \\\n",
       "0                           0    Male         67                            0   \n",
       "1                           1  Female         61                            0   \n",
       "2                           0    Male         74                            1   \n",
       "3                           1    Male         71                            0   \n",
       "4                           0  Female         70                            1   \n",
       "\n",
       "   numeric_Access_to_Resources  numeric_Motivation_Level  \\\n",
       "0                            2                         0   \n",
       "1                            1                         0   \n",
       "2                            1                         1   \n",
       "3                            1                         1   \n",
       "4                            1                         1   \n",
       "\n",
       "  numeric_Family_Income  numeric_Teacher_Quality numeric_Peer_Influence  \\\n",
       "0                     0                        1                      1   \n",
       "1                     1                        1                     -1   \n",
       "2                     1                        1                      0   \n",
       "3                     1                        1                     -1   \n",
       "4                     1                        2                      0   \n",
       "\n",
       "  numeric_Learning_Disabilities  \n",
       "0                         False  \n",
       "1                         False  \n",
       "2                         False  \n",
       "3                         False  \n",
       "4                         False  \n",
       "\n",
       "[5 rows x 32 columns]"
      ]
     },
     "execution_count": 14,
     "metadata": {},
     "output_type": "execute_result"
    }
   ],
   "source": [
    "\n",
    "def clean_data(data) -> pd.DataFrame:\n",
    "    # Drop duplicate rows across all columns\n",
    "    data = data.drop_duplicates()\n",
    "    # Drop rows with missing data across all columns\n",
    "    data = data.dropna()\n",
    "    # Change column type to int8 for columns: 'Sleep_Hours', 'Hours_Studied' and 5 other columns\n",
    "    data = data.astype({'Sleep_Hours': 'int8', 'Hours_Studied': 'int8', 'Attendance': 'int8', 'Previous_Scores': 'int8', 'Tutoring_Sessions': 'int8', 'Physical_Activity': 'int8', 'Exam_Score': 'int8'})\n",
    "    df = data\n",
    "    df['numeric_Parental_Involvement'] = df['Parental_Involvement'].map({'Low': 0, 'Medium': 1, 'High': 2})\n",
    "    df['numeric_Access_to_Resources'] = df['Access_to_Resources'].map({'Low': 0, 'Medium': 1, 'High': 2})\n",
    "    df['numeric_Motivation_Level'] = df['Motivation_Level'].map({'Low': 0, 'Medium': 1, 'High': 2})\n",
    "    df['numeric_Family_Income'] = df['Family_Income'].map({'Low': 0, 'Medium': 1, 'High': 2})\n",
    "    df['numeric_Teacher_Quality'] = df['Teacher_Quality'].map({'Low': 0, 'Medium': 1, 'High': 2})\n",
    "    # Derive column 'bool_Extracurricular_Activities' from column: 'Extracurricular_Activities'\n",
    "    def bool_Extracurricular_Activities(Extracurricular_Activities):\n",
    "        \"\"\"\n",
    "        Transform based on the following examples:\n",
    "           Extracurricular_Activities    Output\n",
    "        1: \"Yes\"                      => \"1\"\n",
    "        2: \"No\"                       => \"0\"\n",
    "        \"\"\"\n",
    "        if Extracurricular_Activities == \"Yes\":\n",
    "            return True\n",
    "        if Extracurricular_Activities == \"No\":\n",
    "            return False\n",
    "        return None\n",
    "    data.insert(5, \"bool_Extracurricular_Activities\", data.apply(lambda row : bool_Extracurricular_Activities(row[\"Extracurricular_Activities\"]), axis=1))\n",
    "    # Change column type to bool for column: 'bool_Extracurricular_Activities'\n",
    "    data = data.astype({'bool_Extracurricular_Activities': 'bool'})\n",
    "    # Derive column 'bool_Internet_Access' from column: 'Internet_Access'\n",
    "    def bool_Internet_Access(Internet_Access):\n",
    "        \"\"\"\n",
    "        Transform based on the following examples:\n",
    "           Internet_Access    Output\n",
    "        1: \"Yes\"           => \"True\"\n",
    "        2: \"No\"            => \"False\"\n",
    "        \"\"\"\n",
    "        if Internet_Access == \"Yes\":\n",
    "            return True\n",
    "        if Internet_Access == \"No\":\n",
    "            return False\n",
    "        return None\n",
    "    data.insert(10, \"bool_Internet_Access\", data.apply(lambda row : bool_Internet_Access(row[\"Internet_Access\"]), axis=1))\n",
    "    # One-hot encode column: 'School_Type'\n",
    "    insert_loc = data.columns.get_loc('School_Type')\n",
    "    data = pd.concat([data.iloc[:,:insert_loc], pd.get_dummies(data.loc[:, ['School_Type']]), data.iloc[:,insert_loc+1:]], axis=1)\n",
    "    data['numeric_Peer_Influence'] = data['Peer_Influence'].map({\n",
    "        'Negative' : -1,\n",
    "        'Neutral' : 0,\n",
    "        'Positive' : 1\n",
    "    })\n",
    "    data['numeric_Learning_Disabilities'] = data['Learning_Disabilities'].map({\n",
    "        'No' : False,\n",
    "        'Yes' : True\n",
    "    })\n",
    "    # Derive column 'numeric_Parental_Education_Level' from column: 'Parental_Education_Level'\n",
    "    def numeric_Parental_Education_Level(Parental_Education_Level):\n",
    "        \"\"\"\n",
    "        Transform based on the following examples:\n",
    "           Parental_Education_Level    Output\n",
    "        1: \"High School\"            => \"0\"\n",
    "        2: \"College\"                => \"1\"\n",
    "        3: \"Postgraduate\"           => \"2\"\n",
    "        \"\"\"\n",
    "        if len(Parental_Education_Level) - len(Parental_Education_Level.replace(\" \", \"\")) == 1:\n",
    "            return \"0\"\n",
    "        if Parental_Education_Level == \"College\":\n",
    "            return \"1\"\n",
    "        if Parental_Education_Level == \"Postgraduate\":\n",
    "            return \"2\"\n",
    "        return None\n",
    "    data.insert(20, \"numeric_Parental_Education_Level\", data.apply(lambda row : numeric_Parental_Education_Level(row[\"Parental_Education_Level\"]), axis=1))\n",
    "    # Change column type to int8 for column: 'numeric_Parental_Education_Level'\n",
    "    data = data.astype({'numeric_Parental_Education_Level': 'int8'})\n",
    "    # Derive column 'numeric_Distance_from_Home' from column: 'Distance_from_Home'\n",
    "    def numeric_Distance_from_Home(Distance_from_Home):\n",
    "        \"\"\"\n",
    "        Transform based on the following examples:\n",
    "           Distance_from_Home    Output\n",
    "        1: \"Near\"             => \"0\"\n",
    "        2: \"Moderate\"         => \"1\"\n",
    "        3: \"Far\"              => \"2\"\n",
    "        \"\"\"\n",
    "        if Distance_from_Home == \"Near\":\n",
    "            return \"0\"\n",
    "        if Distance_from_Home == \"Moderate\":\n",
    "            return \"1\"\n",
    "        if Distance_from_Home == \"Far\":\n",
    "            return \"2\"\n",
    "        return None\n",
    "    data.insert(22, \"numeric_Distance_from_Home\", data.apply(lambda row : numeric_Distance_from_Home(row[\"Distance_from_Home\"]), axis=1))\n",
    "    # Change column type to int8 for column: 'numeric_Distance_from_Home'\n",
    "    data = data.astype({'numeric_Distance_from_Home': 'int8'})\n",
    "    data = data.astype({'numeric_Peer_Influence': 'int8', 'numeric_Teacher_Quality': 'int8', 'numeric_Family_Income': 'int8', 'numeric_Motivation_Level': 'int8', 'numeric_Access_to_Resources': 'int8', 'numeric_Parental_Involvement': 'int8'})\n",
    "    return data\n",
    "\n",
    "df = clean_data(data.copy())\n",
    "df.head()"
   ]
  },
  {
   "cell_type": "markdown",
   "id": "39360eb5",
   "metadata": {},
   "source": [
    "# Saved some memory"
   ]
  },
  {
   "cell_type": "code",
   "execution_count": 15,
   "id": "183efc54",
   "metadata": {},
   "outputs": [
    {
     "name": "stdout",
     "output_type": "stream",
     "text": [
      "Memory usage after optimization:\n",
      "4.105851173400879 MB\n"
     ]
    }
   ],
   "source": [
    "#code to check memory used\n",
    "print(\"Memory usage after optimization:\")\n",
    "print(df.memory_usage(deep=True).sum() / 1024**2, \"MB\")"
   ]
  },
  {
   "cell_type": "markdown",
   "id": "7561d62c",
   "metadata": {},
   "source": [
    "# Saving the data"
   ]
  },
  {
   "cell_type": "code",
   "execution_count": null,
   "id": "f79ca278",
   "metadata": {},
   "outputs": [],
   "source": [
    "import os\n",
    "_ = os.path.dirname(os.getcwd())\n",
    "_"
   ]
  },
  {
   "cell_type": "code",
   "execution_count": 24,
   "id": "9c7e909d",
   "metadata": {},
   "outputs": [],
   "source": [
    "df.to_csv(os.path.join(_, \"data\", \"processed\", \"data.csv\"), index=False)"
   ]
  }
 ],
 "metadata": {
  "kernelspec": {
   "display_name": "Python 3",
   "language": "python",
   "name": "python3"
  },
  "language_info": {
   "codemirror_mode": {
    "name": "ipython",
    "version": 3
   },
   "file_extension": ".py",
   "mimetype": "text/x-python",
   "name": "python",
   "nbconvert_exporter": "python",
   "pygments_lexer": "ipython3",
   "version": "3.13.2"
  }
 },
 "nbformat": 4,
 "nbformat_minor": 5
}
